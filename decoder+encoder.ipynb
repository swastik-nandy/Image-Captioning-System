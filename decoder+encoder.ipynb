	
cells	
0	
cell_type	"code"
execution_count	1
id	"80b71ade"
metadata	
vscode	
languageId	"plaintext"
outputs	
0	
name	"stdout"
output_type	"stream"
text	
0	"\u001b[33mWARNING: Running pip as the 'root' user can result in broken permissions and conflicting behaviour with the system package manager, possibly rendering your system unusable.It is recommended to use a virtual environment instead: https://pip.pypa.io/warnings/venv. Use the --root-user-action option if you know what you are doing and want to suppress this warning.\u001b[0m\u001b[33m\n"
1	"\u001b[0m\n"
2	"\u001b[1m[\u001b[0m\u001b[34;49mnotice\u001b[0m\u001b[1;39;49m]\u001b[0m\u001b[39;49m A new release of pip is available: \u001b[0m\u001b[31;49m24.2\u001b[0m\u001b[39;49m -> \u001b[0m\u001b[32;49m25.1.1\u001b[0m\n"
3	"\u001b[1m[\u001b[0m\u001b[34;49mnotice\u001b[0m\u001b[1;39;49m]\u001b[0m\u001b[39;49m To update, run: \u001b[0m\u001b[32;49mpython -m pip install --upgrade pip\u001b[0m\n"
4	" Using device: cuda\n"
source	
0	"# CELL 0 - SELECT DEVICE & LOAD DEPENDENCIES\n"
1	"\n"
2	"!pip install -q timm\n"
3	"import os\n"
4	"import json\n"
5	"import pickle\n"
6	"import torch\n"
7	"import random\n"
8	"import timm\n"
9	"import numpy as np\n"
10	"import torch.nn as nn\n"
11	"import torch.nn.functional as F\n"
12	"from torchvision import transforms\n"
13	"from torch.utils.data import Dataset, DataLoader\n"
14	"from torch.cuda.amp import autocast, GradScaler\n"
15	"\n"
16	'device = torch.device("cuda" if torch.cuda.is_available() else "cpu")\n'
17	'print(f" Using device: {device}")\n'
1	
cell_type	"code"
execution_count	2
id	"474934f4"
metadata	
vscode	
languageId	"plaintext"
outputs	
0	
name	"stdout"
output_type	"stream"
text	
0	" Patch token shape: torch.Size([1, 64, 256])\n"
1	" Encoder weights loaded with strict=True\n"
2	" Encoder ready (feature dim = 256)\n"
1	
name	"stderr"
output_type	"stream"
text	
0	"/tmp/ipykernel_3515/3045962482.py:40: FutureWarning: You are using `torch.load` with `weights_only=False` (the current default value), which uses the default pickle module implicitly. It is possible to construct malicious pickle data which will execute arbitrary code during unpickling (See https://github.com/pytorch/pytorch/blob/main/SECURITY.md#untrusted-models for more details). In a future release, the default value for `weights_only` will be flipped to `True`. This limits the functions that could be executed during unpickling. Arbitrary objects will no longer be allowed to be loaded via this mode unless they are explicitly allowlisted by the user via `torch.serialization.add_safe_globals`. We recommend you start setting `weights_only=True` for any use case where you don't have full control of the loaded file. Please open an issue on GitHub for any issues related to this experimental feature.\n"
1	'  encoder.load_state_dict(torch.load("encoder_epoch_50.pt", map_location=device), strict=True)\n'
source	
0	"# Cell 1 - Encoder Only (decoder-ready, no projection head)\n"
1	"\n"
2	"\n"
3	"import timm\n"
4	"import torch\n"
5	"import torch.nn as nn\n"
6	"import torch.nn.functional as F\n"
7	"\n"
8	"#  Encoder that returns patch-wise feature map: (B, 64, C)\n"
9	"class Encoder(nn.Module):\n"
10	"    def __init__(self):\n"
11	"        super().__init__()\n"
12	"        self.backbone = timm.create_model(\n"
13	'            "efficientnetv2_s",\n'
14	"            pretrained=False,\n"
15	"            features_only=True\n"
16	"        )\n"
17	"        self.pool = nn.AdaptiveAvgPool2d((8, 8))  # ensures 8×8 spatial output\n"
18	"\n"
19	"    def forward(self, x):\n"
20	"        x = self.backbone(x)[-1]              # (B, C, H, W) → final block\n"
21	"        x = self.pool(x)                      # (B, C, 8, 8)\n"
22	"        B, C, H, W = x.shape\n"
23	"        x = x.permute(0, 2, 3, 1)             # (B, 8, 8, C)\n"
24	"        x = x.reshape(B, H * W, C)            # (B, 64, C)\n"
25	"        return x\n"
26	"\n"
27	"# Instantiate encoder first\n"
28	"encoder = Encoder().to(device)\n"
29	"\n"
30	"#  Dynamically detect feature dim (C) from dummy input\n"
31	"with torch.no_grad():\n"
32	"    dummy = torch.randn(1, 3, 256, 256).to(device)\n"
33	"    out = encoder(dummy)\n"
34	"    feature_dim = out.shape[-1]  # usually 1280 for effnetv2_s\n"
35	'    print(f" Patch token shape: {out.shape}")  # (1, 64, 1280)\n'
36	"\n"
37	"#  Load encoder weights with fallback\n"
38	"try:\n"
39	'    encoder.load_state_dict(torch.load("encoder_epoch_50.pt", map_location=device), strict=True)\n'
40	'    print(" Encoder weights loaded with strict=True")\n'
41	"except RuntimeError as e:\n"
42	'    print(" Strict loading failed:", e)\n'
43	'    print(" Retrying with strict=False")\n'
44	'    encoder.load_state_dict(torch.load("encoder_epoch_50.pt", map_location=device), strict=False)\n'
45	"\n"
46	'print(f" Encoder ready (feature dim = {feature_dim})")\n'
47	"\n"
2	
cell_type	"code"
execution_count	3
id	"3bea99b0"
metadata	
vscode	
languageId	"plaintext"
outputs	[]
source	
0	"# CELL 2 - CAPTION PROCESSING\n"
1	"\n"
2	"\n"
3	`with open("captions_train2017.json", 'r') as f:\n`
4	'    annotations = json.load(f)["annotations"]\n'
5	"\n"
6	"captions_dict = {}\n"
7	"for ann in annotations:\n"
8	'    img_id = ann["image_id"]\n'
9	'    cap = ann["caption"]\n'
10	"    captions_dict.setdefault(img_id, []).append(cap)\n"
11	"\n"
12	"# Basic tokenizer & vocab\n"
13	"def tokenize(text):\n"
14	"    return text.lower().strip().split()\n"
15	"\n"
16	"word_freq = {}\n"
17	"for caps in captions_dict.values():\n"
18	"    for cap in caps:\n"
19	"        for token in tokenize(cap):\n"
20	"            word_freq[token] = word_freq.get(token, 0) + 1\n"
21	"\n"
22	"# Build vocab\n"
23	'vocab = {"<PAD>": 0, "<SOS>": 1, "<EOS>": 2, "<UNK>": 3}\n'
24	"for word, freq in word_freq.items():\n"
25	"    if freq >= 5:  # min frequency cutoff\n"
26	"        vocab[word] = len(vocab)\n"
27	"\n"
28	"word2idx = vocab\n"
29	"idx2word = {idx: word for word, idx in vocab.items()}\n"
30	"vocab_size = len(vocab)\n"
31	"\n"
32	'with open("vocab.pkl", "wb") as f:\n'
33	'    pickle.dump({"word2idx": word2idx, "idx2word": idx2word}, f)\n'
3	
cell_type	"code"
execution_count	4
id	"9249f382"
metadata	
vscode	
languageId	"plaintext"
outputs	[]
source	
0	"# CELL 3 - DATASET + DATALOADER\n"
1	"\n"
2	"from PIL import Image, ImageFile\n"
3	"ImageFile.LOAD_TRUNCATED_IMAGES = True  #  allows loading broken JPEGs\n"
4	"\n"
5	"class ImageCaptionDataset(Dataset):\n"
6	"    def __init__(self, folder, image2caption, word2idx, transform):\n"
7	"        self.folder = folder\n"
8	"        self.mapping = list(image2caption.items())\n"
9	"        self.word2idx = word2idx\n"
10	"        self.transform = transform\n"
11	"        self.fallback_count = 0  #  optional: track black image fallbacks\n"
12	"\n"
13	"    def __getitem__(self, i):\n"
14	"        img_id, captions = self.mapping[i]\n"
15	'        img_path = os.path.join(self.folder, f"{img_id:012}.jpg")\n'
16	"\n"
17	"        #  Safe image load with grayscale/corrupt fallback\n"
18	"        try:\n"
19	'            image = Image.open(img_path).convert("RGB")\n'
20	"        except Exception as e:\n"
21	"            self.fallback_count += 1\n"
22	'            print(f" Fallback: Could not load {img_path} — {e}")\n'
23	'            image = Image.new("RGB", (256, 256), color=(0, 0, 0))  # black dummy\n'
24	"\n"
25	"        image = self.transform(image)\n"
26	"\n"
27	"        #  Caption tokenization\n"
28	'        caption = ["<SOS>"] + random.choice(captions).lower().strip().split() + ["<EOS>"]\n'
29	'        tokens = [self.word2idx.get(w.strip(".,!?"), self.word2idx["<UNK>"]) for w in caption]\n'
30	'        tokens = tokens[:20] + [self.word2idx["<PAD>"]] * (20 - len(tokens))\n'
31	"\n"
32	"        return image, torch.tensor(tokens)\n"
33	"\n"
34	"    def __len__(self):\n"
35	"        return len(self.mapping)\n"
36	"\n"
37	"#  Standard transform (resize, normalize)\n"
38	"transform = transforms.Compose([\n"
39	"    transforms.Resize((256, 256)),\n"
40	"    transforms.ToTensor(),\n"
41	"    transforms.Normalize([0.5]*3, [0.5]*3)\n"
42	"])\n"
43	"\n"
44	"#  Instantiate dataset\n"
45	'dataset = ImageCaptionDataset("images", captions_dict, word2idx, transform)\n'
46	"\n"
47	"#  FINAL DataLoader with high batch size + PIL-safe settings\n"
48	"loader = DataLoader(\n"
49	"    dataset,\n"
50	"    batch_size=1024,      #  set to 1024 if you tested and confirmed it's safe\n"
51	"    shuffle=True,\n"
52	"    num_workers=0,       #  Single-threaded (PIL-safe)\n"
53	"    pin_memory=False     #  Avoid async GPU transfer issues\n"
54	")\n"
4	
cell_type	"code"
execution_count	5
id	"32dfb3bc"
metadata	
vscode	
languageId	"plaintext"
outputs	[]
source	
0	"\n"
1	"# CELL 4 - TRANSFORMER DECODER\n"
2	"\n"
3	"class CaptionDecoder(nn.Module):\n"
4	"    def __init__(self, vocab_size, feature_dim, hidden_dim=512, num_layers=6, nhead=8, max_len=20):\n"
5	"        super().__init__()\n"
6	"        self.token_embed = nn.Embedding(vocab_size, hidden_dim)\n"
7	"        self.pos_embed = nn.Parameter(torch.randn(max_len, hidden_dim))\n"
8	"        self.img_proj = nn.Linear(feature_dim, hidden_dim)\n"
9	"\n"
10	"        decoder_layer = nn.TransformerDecoderLayer(d_model=hidden_dim, nhead=nhead, activation='gelu', batch_first=True)\n"
11	"        self.decoder = nn.TransformerDecoder(decoder_layer, num_layers=num_layers)\n"
12	"        self.fc_out = nn.Linear(hidden_dim, vocab_size)\n"
13	"\n"
14	"    def forward(self, image_tokens, caption_tokens):\n"
15	"        B, T = caption_tokens.shape\n"
16	"        tgt = self.token_embed(caption_tokens) + self.pos_embed[:T]\n"
17	"        memory = self.img_proj(image_tokens)\n"
18	"\n"
19	"        tgt_mask = nn.Transformer.generate_square_subsequent_mask(T).to(caption_tokens.device)\n"
20	"        return self.fc_out(self.decoder(tgt, memory, tgt_mask=tgt_mask))\n"
5	
cell_type	"code"
execution_count	6
id	"83527fbc"
metadata	
vscode	
languageId	"plaintext"
outputs	[]
source	
0	"# CELL 5 - ENCODER + DECODER \n"
1	"\n"
2	"class ImageCaptioningModel(nn.Module):\n"
3	"    def __init__(self, encoder, decoder):\n"
4	"        super().__init__()\n"
5	"        self.encoder = encoder\n"
6	"        self.decoder = decoder\n"
7	"\n"
8	"    def forward(self, images, captions):\n"
9	"        image_tokens = self.encoder(images)           # (B, 64, C)\n"
10	"        return self.decoder(image_tokens, captions)   # (B, T, vocab_size)\n"
6	
cell_type	"code"
execution_count	7
id	"e0942f1a"
metadata	
vscode	
languageId	"plaintext"
outputs	
0	
name	"stderr"
output_type	"stream"
text	
0	"/tmp/ipykernel_3515/4127236421.py:19: FutureWarning: `torch.cuda.amp.GradScaler(args...)` is deprecated. Please use `torch.amp.GradScaler('cuda', args...)` instead.\n"
1	"  scaler = GradScaler()\n"
source	
0	"# CELL 6 - LOSS, OPTIMIZER & AMP \n"
1	"\n"
2	'PAD_ID = word2idx["<PAD>"]\n'
3	"\n"
4	"decoder = CaptionDecoder(\n"
5	"    vocab_size=len(word2idx),\n"
6	"    feature_dim=encoder(torch.randn(1, 3, 256, 256).to(device)).shape[-1]\n"
7	").to(device)\n"
8	"\n"
9	"model = ImageCaptioningModel(encoder, decoder).to(device)\n"
10	"criterion = nn.CrossEntropyLoss(ignore_index=PAD_ID)\n"
11	"\n"
12	"optimizer = torch.optim.AdamW([\n"
13	'    {"params": model.encoder.parameters(), "lr": 1e-5},\n'
14	'    {"params": model.decoder.parameters(), "lr": 1e-4}\n'
15	"])\n"
16	"\n"
17	"from torch.cuda.amp import GradScaler, autocast\n"
18	"scaler = GradScaler()\n"
19	"\n"
20	"\n"
7	
cell_type	"code"
execution_count	8
id	"0cb59acd"
metadata	
vscode	
languageId	"plaintext"
outputs	
0	
name	"stderr"
output_type	"stream"
text	
0	"/tmp/ipykernel_3515/2849251408.py:14: FutureWarning: `torch.cuda.amp.GradScaler(args...)` is deprecated. Please use `torch.amp.GradScaler('cuda', args...)` instead.\n"
1	"  scaler = GradScaler()\n"
2	"/tmp/ipykernel_3515/2849251408.py:33: FutureWarning: `torch.cuda.amp.autocast(args...)` is deprecated. Please use `torch.amp.autocast('cuda', args...)` instead.\n"
3	"  with autocast():\n"
1	
name	"stdout"
output_type	"stream"
text	
0	" Step 000 | Loss: 9.7175 | GPU Mem: 2.23 GB\n"
1	" Step 005 | Loss: 8.1538 | GPU Mem: 2.23 GB\n"
2	" Step 010 | Loss: 7.3898 | GPU Mem: 2.23 GB\n"
3	" Step 015 | Loss: 7.0409 | GPU Mem: 2.23 GB\n"
4	" Step 020 | Loss: 6.7757 | GPU Mem: 2.23 GB\n"
5	" Step 025 | Loss: 6.5165 | GPU Mem: 2.23 GB\n"
6	" Step 030 | Loss: 6.2754 | GPU Mem: 2.23 GB\n"
7	" Step 035 | Loss: 6.0958 | GPU Mem: 2.23 GB\n"
8	" Step 040 | Loss: 5.9553 | GPU Mem: 2.23 GB\n"
9	" Step 045 | Loss: 5.8152 | GPU Mem: 2.23 GB\n"
10	" Step 050 | Loss: 5.6288 | GPU Mem: 2.23 GB\n"
11	" Step 055 | Loss: 5.4940 | GPU Mem: 2.23 GB\n"
12	" Step 060 | Loss: 5.4055 | GPU Mem: 2.23 GB\n"
13	" Step 065 | Loss: 5.3146 | GPU Mem: 2.23 GB\n"
14	" Step 070 | Loss: 5.2387 | GPU Mem: 2.23 GB\n"
15	" Step 075 | Loss: 5.1555 | GPU Mem: 2.23 GB\n"
16	" Step 080 | Loss: 5.0369 | GPU Mem: 2.23 GB\n"
17	" Step 085 | Loss: 5.0171 | GPU Mem: 2.23 GB\n"
18	" Step 090 | Loss: 4.8977 | GPU Mem: 2.23 GB\n"
19	" Step 095 | Loss: 4.8328 | GPU Mem: 2.23 GB\n"
20	" Step 100 | Loss: 4.7934 | GPU Mem: 2.23 GB\n"
21	" Step 105 | Loss: 4.7507 | GPU Mem: 2.23 GB\n"
22	" Step 110 | Loss: 4.7290 | GPU Mem: 2.23 GB\n"
23	" Step 115 | Loss: 4.6598 | GPU Mem: 1.62 GB\n"
24	"\n"
25	" Epoch 1/10 | Avg Loss: 5.809684\n"
26	"\n"
27	" Checkpoint saved to checkpoints/captioning_latest.pth\n"
28	" Step 000 | Loss: 4.6206 | GPU Mem: 2.22 GB\n"
29	" Step 005 | Loss: 4.5940 | GPU Mem: 2.23 GB\n"
30	" Step 010 | Loss: 4.5894 | GPU Mem: 2.23 GB\n"
31	" Step 015 | Loss: 4.5344 | GPU Mem: 2.23 GB\n"
32	" Step 020 | Loss: 4.4488 | GPU Mem: 2.23 GB\n"
33	" Step 025 | Loss: 4.3859 | GPU Mem: 2.23 GB\n"
34	" Step 030 | Loss: 4.3951 | GPU Mem: 2.23 GB\n"
35	" Step 035 | Loss: 4.3337 | GPU Mem: 2.23 GB\n"
36	" Step 040 | Loss: 4.2768 | GPU Mem: 2.23 GB\n"
37	" Step 045 | Loss: 4.2232 | GPU Mem: 2.23 GB\n"
38	" Step 050 | Loss: 4.2042 | GPU Mem: 2.23 GB\n"
39	" Step 055 | Loss: 4.1765 | GPU Mem: 2.23 GB\n"
40	" Step 060 | Loss: 4.1255 | GPU Mem: 2.23 GB\n"
41	" Step 065 | Loss: 4.0819 | GPU Mem: 2.23 GB\n"
42	" Step 070 | Loss: 4.0907 | GPU Mem: 2.23 GB\n"
43	" Step 075 | Loss: 4.0267 | GPU Mem: 2.23 GB\n"
44	" Step 080 | Loss: 3.9702 | GPU Mem: 2.23 GB\n"
45	" Step 085 | Loss: 3.9764 | GPU Mem: 2.23 GB\n"
46	" Step 090 | Loss: 3.9857 | GPU Mem: 2.23 GB\n"
47	" Step 095 | Loss: 3.8756 | GPU Mem: 2.23 GB\n"
48	" Step 100 | Loss: 3.9496 | GPU Mem: 2.23 GB\n"
49	" Step 105 | Loss: 3.8111 | GPU Mem: 2.23 GB\n"
50	" Step 110 | Loss: 3.7901 | GPU Mem: 2.23 GB\n"
51	" Step 115 | Loss: 3.8075 | GPU Mem: 1.62 GB\n"
52	"\n"
53	" Epoch 2/10 | Avg Loss: 4.171448\n"
54	"\n"
55	" Checkpoint saved to checkpoints/captioning_latest.pth\n"
56	" Step 000 | Loss: 3.8314 | GPU Mem: 2.22 GB\n"
source	
0	"# CELL 7 - TRAINING LOOP\n"
1	"\n"
2	"import os\n"
3	"from torch.cuda.amp import autocast, GradScaler\n"
4	"\n"
5	"EPOCHS = 10\n"
6	'CHECKPOINT_DIR = "checkpoints"\n'
7	"os.makedirs(CHECKPOINT_DIR, exist_ok=True)\n"
8	"\n"
9	'checkpoint_path = os.path.join(CHECKPOINT_DIR, "captioning_latest.pth")\n'
10	"\n"
11	"#  Resume logic\n"
12	"start_epoch = 0\n"
13	"scaler = GradScaler()\n"
14	"\n"
15	"if os.path.exists(checkpoint_path):\n"
16	"    checkpoint = torch.load(checkpoint_path, map_location=device)\n"
17	'    model.load_state_dict(checkpoint["model_state_dict"])\n'
18	'    optimizer.load_state_dict(checkpoint["optimizer_state_dict"])\n'
19	'    scaler.load_state_dict(checkpoint["scaler_state_dict"])\n'
20	'    start_epoch = checkpoint["epoch"]\n'
21	'    print(f" Resuming training from epoch {start_epoch}")\n'
22	"\n"
23	"#  Training loop\n"
24	"for epoch in range(start_epoch, EPOCHS):\n"
25	"    model.train()\n"
26	"    total_loss = 0.0\n"
27	"\n"
28	"    for step, (images, captions) in enumerate(loader):\n"
29	"        images, captions = images.to(device), captions.to(device)\n"
30	"        optimizer.zero_grad()\n"
31	"\n"
32	"        with autocast():\n"
33	"            outputs = model(images, captions[:, :-1])  # input\n"
34	"            loss = criterion(\n"
35	"                outputs.reshape(-1, outputs.size(-1)),\n"
36	"                captions[:, 1:].reshape(-1)\n"
37	"            )\n"
38	"\n"
39	"        scaler.scale(loss).backward()\n"
40	"        scaler.step(optimizer)\n"
41	"        scaler.update()\n"
42	"\n"
43	"        total_loss += loss.item()\n"
44	"\n"
45	"        #  Live GPU memory print (once per 5 steps)\n"
46	"        if step % 5 == 0:\n"
47	"            mem_gb = torch.cuda.memory_allocated() / 1024**3\n"
48	'            print(f" Step {step:03d} | Loss: {loss.item():.4f} | GPU Mem: {mem_gb:.2f} GB")\n'
49	"\n"
50	"    avg_loss = total_loss / len(loader)\n"
51	'    print(f"\\n Epoch {epoch+1}/{EPOCHS} | Avg Loss: {avg_loss:.6f}\\n")\n'
52	"\n"
53	"    #  Save checkpoint after each epoch\n"
54	"    ckpt = {\n"
55	"        'epoch': epoch + 1,\n"
56	"        'model_state_dict': model.state_dict(),\n"
57	"        'optimizer_state_dict': optimizer.state_dict(),\n"
58	"        'scaler_state_dict': scaler.state_dict(),\n"
59	"        'config': {\n"
60	"            'vocab_size': len(word2idx),\n"
61	"            'hidden_dim': 512,\n"
62	"            'num_heads': 8,\n"
63	"            'num_layers': 6\n"
64	"        }\n"
65	"    }\n"
66	"    torch.save(ckpt, checkpoint_path)\n"
67	'    print(f" Checkpoint saved to {checkpoint_path}")\n'
8	
cell_type	"code"
execution_count	9
id	"7a4d14c2-7b78-44cd-8b74-f2d3eec90567"
metadata	{}
outputs	[]
source	
0	"import torch\n"
1	"from model import Encoder  # use your actual Encoder class definition\n"
2	"\n"
3	"# Load full training checkpoint\n"
4	'ckpt = torch.load("checkpoints/captioning_latest.pth", map_location="cpu")\n'
5	"\n"
6	"# Rebuild encoder\n"
7	"encoder = Encoder()\n"
8	'encoder.load_state_dict(ckpt["model_state_dict"], strict=False)\n'
9	"\n"
10	"# Save entire encoder object as .pt (not just weights)\n"
11	'torch.save(encoder, "encoder_epoch_52.pt")\n'
12	'print(" Saved fine-tuned encoder to encoder_epoch_52.pt")\n'
9	
cell_type	"code"
execution_count	null
id	"81eacc46-3d22-40b9-8c30-2cb0fc10de26"
metadata	{}
outputs	[]
source	[]
metadata	
kernelspec	
display_name	"Python 3 (ipykernel)"
language	"python"
name	"python3"
language_info	
codemirror_mode	
name	"ipython"
version	3
file_extension	".py"
mimetype	"text/x-python"
name	"python"
nbconvert_exporter	"python"
pygments_lexer	"ipython3"
version	"3.11.10"
nbformat	4
nbformat_minor	5
